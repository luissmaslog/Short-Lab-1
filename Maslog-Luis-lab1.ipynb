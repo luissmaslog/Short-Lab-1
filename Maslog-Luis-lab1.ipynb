{
 "cells": [
  {
   "cell_type": "markdown",
   "metadata": {},
   "source": [
    "193295\n",
    "Maslog\n",
    "2 BS ITE"
   ]
  },
  {
   "cell_type": "code",
   "execution_count": 6,
   "metadata": {},
   "outputs": [],
   "source": [
    "def convert_to_pesos (usd):\n",
    "    php = usd*50\n",
    "    return php"
   ]
  },
  {
   "cell_type": "code",
   "execution_count": 7,
   "metadata": {},
   "outputs": [
    {
     "name": "stdout",
     "output_type": "stream",
     "text": [
      "Enter the amount in US Dollars: 6\n",
      "6.0 US dollar(s) =  300.0 Philippine Pesos\n"
     ]
    }
   ],
   "source": [
    "usd = float(input(\"Enter the amount in US Dollars: \"))\n",
    "php = convert_to_pesos(usd)\n",
    "print(usd, \"US dollar(s) = \", php, \"Philippine Pesos\" )"
   ]
  },
  {
   "cell_type": "code",
   "execution_count": 12,
   "metadata": {},
   "outputs": [
    {
     "name": "stdout",
     "output_type": "stream",
     "text": [
      "55\n",
      "3\n",
      "58\n",
      "52\n",
      "165\n",
      "18\n",
      "1\n"
     ]
    }
   ],
   "source": [
    "num1 = int(input())\n",
    "num2 = int(input())\n",
    "\n",
    "add = num1 + num2\n",
    "diff = num1 - num2\n",
    "prod = num1*num2\n",
    "op1 = num1//num2\n",
    "op2 = num1%num2\n",
    "\n",
    "print(add)\n",
    "print(diff)\n",
    "print(prod)\n",
    "print(op1)\n",
    "print(op2)\n"
   ]
  },
  {
   "cell_type": "code",
   "execution_count": 13,
   "metadata": {},
   "outputs": [
    {
     "name": "stdout",
     "output_type": "stream",
     "text": [
      "128\n",
      "8\n",
      "136\n",
      "120\n",
      "1024\n",
      "16\n",
      "0\n"
     ]
    }
   ],
   "source": [
    "num1 = int(input())\n",
    "num2 = int(input())\n",
    "\n",
    "add = num1 + num2\n",
    "diff = num1 - num2\n",
    "prod = num1*num2\n",
    "op1 = num1//num2\n",
    "op2 = num1%num2\n",
    "\n",
    "print(add)\n",
    "print(diff)\n",
    "print(prod)\n",
    "print(op1)\n",
    "print(op2)\n"
   ]
  },
  {
   "cell_type": "code",
   "execution_count": 14,
   "metadata": {},
   "outputs": [],
   "source": [
    "def compute_bmi (kg, m):\n",
    "    bmi = kg/m**2\n",
    "    return bmi\n",
    "\n",
    "def convert_cm_to_m (cm):\n",
    "    return cm*0.01"
   ]
  },
  {
   "cell_type": "code",
   "execution_count": 15,
   "metadata": {},
   "outputs": [
    {
     "name": "stdout",
     "output_type": "stream",
     "text": [
      "Enter kg 65\n",
      "Enter cm 180\n",
      "BMI:  20.061728395061728\n"
     ]
    }
   ],
   "source": [
    "kg = float(input(\"Enter kg \"))\n",
    "cm = float(input(\"Enter cm \"))\n",
    "\n",
    "m = convert_cm_to_m(cm)\n",
    "bmi = compute_bmi(kg, m)\n",
    "\n",
    "print(\"BMI: \", bmi)"
   ]
  },
  {
   "cell_type": "code",
   "execution_count": null,
   "metadata": {},
   "outputs": [],
   "source": []
  }
 ],
 "metadata": {
  "kernelspec": {
   "display_name": "Python 3",
   "language": "python",
   "name": "python3"
  },
  "language_info": {
   "codemirror_mode": {
    "name": "ipython",
    "version": 3
   },
   "file_extension": ".py",
   "mimetype": "text/x-python",
   "name": "python",
   "nbconvert_exporter": "python",
   "pygments_lexer": "ipython3",
   "version": "3.8.5"
  }
 },
 "nbformat": 4,
 "nbformat_minor": 4
}
